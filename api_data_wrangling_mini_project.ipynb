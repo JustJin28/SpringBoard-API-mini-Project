{
 "cells": [
  {
   "cell_type": "markdown",
   "metadata": {},
   "source": [
    "This exercise will require you to pull some data from https://data.nasdaq.com/ (formerly Quandl API)."
   ]
  },
  {
   "cell_type": "markdown",
   "metadata": {},
   "source": [
    "As a first step, you will need to register a free account on the https://data.nasdaq.com/ website."
   ]
  },
  {
   "cell_type": "markdown",
   "metadata": {},
   "source": [
    "After you register, you will be provided with a unique API key, that you should store:\n",
    "\n",
    "*Note*: Use a `.env` file and put your key in there and `python-dotenv` to access it in this notebook. \n",
    "\n",
    "The code below uses a key that was used when generating this project but has since been deleted. Never submit your keys to source control. There is a `.env-example` file in this repository to illusrtate what you need. Copy that to a file called `.env` and use your own api key in that `.env` file. Make sure you also have a `.gitignore` file with a line for `.env` added to it. \n",
    "\n",
    "The standard Python gitignore is [here](https://github.com/github/gitignore/blob/master/Python.gitignore) you can just copy that. "
   ]
  },
  {
   "cell_type": "code",
   "execution_count": 65,
   "metadata": {},
   "outputs": [],
   "source": [
    "# get api key from your .env file\n",
    "import os\n",
    "from dotenv import load_dotenv\n",
    "\n",
    "load_dotenv()\n",
    "API_KEY = os.getenv('NASDAQ_API_KEY')"
   ]
  },
  {
   "cell_type": "markdown",
   "metadata": {},
   "source": [
    "Nasdaq Data has a large number of data sources, but, unfortunately, most of them require a Premium subscription. Still, there are also a good number of free datasets."
   ]
  },
  {
   "cell_type": "markdown",
   "metadata": {},
   "source": [
    "For this mini project, we will focus on equities data from the Frankfurt Stock Exhange (FSE), which is available for free. We'll try and analyze the stock prices of a company called Carl Zeiss Meditec, which manufactures tools for eye examinations, as well as medical lasers for laser eye surgery: https://www.zeiss.com/meditec/int/home.html. The company is listed under the stock ticker AFX_X."
   ]
  },
  {
   "cell_type": "markdown",
   "metadata": {},
   "source": [
    "You can find the detailed Nasdaq Data API instructions here: https://docs.data.nasdaq.com/docs/in-depth-usage"
   ]
  },
  {
   "cell_type": "markdown",
   "metadata": {},
   "source": [
    "While there is a dedicated Python package for connecting to the Nasdaq API, we would prefer that you use the *requests* package, which can be easily downloaded using *pip* or *conda*. You can find the documentation for the package here: http://docs.python-requests.org/en/master/ "
   ]
  },
  {
   "cell_type": "markdown",
   "metadata": {},
   "source": [
    "Finally, apart from the *requests* package, you are encouraged to not use any third party Python packages, such as *pandas*, and instead focus on what's available in the Python Standard Library (the *collections* module might come in handy: https://pymotw.com/3/collections/).\n",
    "Also, since you won't have access to DataFrames, you are encouraged to us Python's native data structures - preferably dictionaries, though some questions can also be answered using lists.\n",
    "You can read more on these data structures here: https://docs.python.org/3/tutorial/datastructures.html"
   ]
  },
  {
   "cell_type": "markdown",
   "metadata": {},
   "source": [
    "Keep in mind that the JSON responses you will be getting from the API map almost one-to-one to Python's dictionaries. Unfortunately, they can be very nested, so make sure you read up on indexing dictionaries in the documentation provided above."
   ]
  },
  {
   "cell_type": "code",
   "execution_count": 2,
   "metadata": {},
   "outputs": [],
   "source": [
    "# First, import the relevant modules\n",
    "import requests"
   ]
  },
  {
   "cell_type": "markdown",
   "metadata": {},
   "source": [
    "Note: API's can change a bit with each version, for this exercise it is reccomended to use the nasdaq api at `https://data.nasdaq.com/api/v3/`. This is the same api as what used to be quandl so `https://www.quandl.com/api/v3/` should work too.\n",
    "\n",
    "Hint: We are looking for the `AFX_X` data on the `datasets/FSE/` dataset."
   ]
  },
  {
   "cell_type": "code",
   "execution_count": 3,
   "metadata": {},
   "outputs": [],
   "source": [
    "# Now, call the Nasdaq API and pull out a small sample of the data (only one day) to get a glimpse\n",
    "# into the JSON structure that will be returned"
   ]
  },
  {
   "cell_type": "code",
   "execution_count": 27,
   "metadata": {},
   "outputs": [
    {
     "name": "stdout",
     "output_type": "stream",
     "text": [
      "dict_keys(['limit', 'transform', 'column_index', 'column_names', 'start_date', 'end_date', 'frequency', 'data', 'collapse', 'order'])\n",
      "\n",
      "['Date', 'Open', 'High', 'Low', 'Close', 'Volume', 'Ex-Dividend', 'Split Ratio', 'Adj. Open', 'Adj. High', 'Adj. Low', 'Adj. Close', 'Adj. Volume']\n",
      "\n",
      "['2018-03-27', 156.31, 162.85, 150.75, 152.19, 76787884.0, 0.0, 1.0, 156.31, 162.85, 150.75, 152.19, 76787884.0]\n",
      "\n"
     ]
    }
   ],
   "source": [
    "# Inspect the JSON structure of the object you created, and take note of how nested it is,\n",
    "# as well as the overall structure\n",
    "\n",
    "url = \"https://data.nasdaq.com/api/v3/datasets/WIKI/FB/data.json?api_key=\"+API_KEY\n",
    "\n",
    "r = requests.get(url)\n",
    "\n",
    "data = r.json()\n",
    "\n",
    "print(data['dataset_data'].keys())\n",
    "print()\n",
    "print(data['dataset_data']['column_names'])\n",
    "print()\n",
    "for row in data['dataset_data']['data'][:1]:\n",
    "    print(row)\n",
    "    print()"
   ]
  },
  {
   "cell_type": "markdown",
   "metadata": {},
   "source": [
    "These are your tasks for this mini project:\n",
    "\n",
    "1. Collect data from the Franfurt Stock Exchange, for the ticker AFX_X, for the whole year 2017 (keep in mind that the date format is YYYY-MM-DD).\n",
    "2. Convert the returned JSON object into a Python dictionary.\n",
    "3. Calculate what the highest and lowest opening prices were for the stock in this period.\n",
    "4. What was the largest change in any one day (based on High and Low price)?\n",
    "5. What was the largest change between any two days (based on Closing Price)?\n",
    "6. What was the average daily trading volume during this year?\n",
    "7. (Optional) What was the median trading volume during this year. (Note: you may need to implement your own function for calculating the median.)"
   ]
  },
  {
   "cell_type": "code",
   "execution_count": 42,
   "metadata": {},
   "outputs": [],
   "source": [
    "#Url to access AFX_X data for the year 2017\n",
    "url_AFX= 'https://data.nasdaq.com/api/v3/datasets/FSE/AFX_X/data.json?start_date=2017-01-01&end_date=2017-12-31&api_key='+API_KEY\n",
    "\n",
    "#Make the request to the API\n",
    "request = requests.get(url_AFX)\n",
    "\n",
    "AFX_data = request.json()\n",
    "\n",
    "\n",
    "#Creating a new dictionary that takes the json response, gets all of the column names\n",
    "#assigns them as keys then loop through the actual data and assignes all of the data values\n",
    "#to the appropriate keys. \n",
    "data_dict = {col: [] for col in AFX_data['dataset_data']['column_names']}\n",
    "\n",
    "#Loop through data and assign values to keys to make searching easier. \n",
    "for row in AFX_data['dataset_data']['data']:\n",
    "    for col, value in zip(AFX_data['dataset_data']['column_names'], row):\n",
    "        data_dict[col].append(value)"
   ]
  },
  {
   "cell_type": "code",
   "execution_count": 44,
   "metadata": {},
   "outputs": [
    {
     "name": "stdout",
     "output_type": "stream",
     "text": [
      "dict_keys(['Date', 'Open', 'High', 'Low', 'Close', 'Change', 'Traded Volume', 'Turnover', 'Last Price of the Day', 'Daily Traded Units', 'Daily Turnover'])\n"
     ]
    }
   ],
   "source": [
    "print(data_dict.keys())"
   ]
  },
  {
   "cell_type": "code",
   "execution_count": 48,
   "metadata": {},
   "outputs": [
    {
     "name": "stdout",
     "output_type": "stream",
     "text": [
      "Highest Opening Price: 53.11, Index: 9\n",
      "Lowest Opening Price: 34.0, Index: 238\n"
     ]
    }
   ],
   "source": [
    "#Finding the Highest and Lowest prices for this period\n",
    "\n",
    "#Start by creating variables that will store the highest and lowest price along with the \n",
    "#indicies of those values (in order to get all of the data for those prices)\n",
    "highest_price = None\n",
    "lowest_price = None\n",
    "highest_price_index = None\n",
    "lowest_price_index = None\n",
    "\n",
    "#Iterate through the prices in the 'Open' list and compare them to find the highest and \n",
    "#lowest. \n",
    "\n",
    "for index, price in enumerate(data_dict['Open']):\n",
    "    if price is not None:\n",
    "        if highest_price is None or price > highest_price:\n",
    "            highest_price = price\n",
    "            highest_price_index = index\n",
    "        if lowest_price is None or price < lowest_price:\n",
    "            lowest_price = price\n",
    "            lowest_price_index = index\n",
    "print(f\"Highest Opening Price: {highest_price}, Index: {highest_price_index}\")\n",
    "print(f\"Lowest Opening Price: {lowest_price}, Index: {lowest_price_index}\")"
   ]
  },
  {
   "cell_type": "code",
   "execution_count": 50,
   "metadata": {},
   "outputs": [
    {
     "name": "stdout",
     "output_type": "stream",
     "text": [
      "\n",
      "Highest Opening Price Data:\n",
      "Date: 2017-12-14\n",
      "Open: 53.11\n",
      "High: 53.54\n",
      "Low: 52.15\n",
      "Close: 52.67\n",
      "Change: None\n",
      "Traded Volume: 132981.0\n",
      "Turnover: 7016953.0\n",
      "Last Price of the Day: None\n",
      "Daily Traded Units: None\n",
      "Daily Turnover: None\n",
      "\n",
      "Lowest Opening Price Data:\n",
      "Date: 2017-01-24\n",
      "Open: 34.0\n",
      "High: 34.35\n",
      "Low: 33.85\n",
      "Close: 34.22\n",
      "Change: None\n",
      "Traded Volume: 48797.0\n",
      "Turnover: 1666086.0\n",
      "Last Price of the Day: None\n",
      "Daily Traded Units: None\n",
      "Daily Turnover: None\n"
     ]
    }
   ],
   "source": [
    "#This function will display all of the information for a given index and dictionary\n",
    "#I created this in order to not only get the highest and lowest price but to also\n",
    "#get all of the information for those days as well. \n",
    "#This function was extermemly helpful for this assignment O_o\n",
    "\n",
    "def data_for_index(data_dict, index):\n",
    "    for col in data_dict:\n",
    "        print(f\"{col}: {data_dict[col][index]}\")\n",
    "        \n",
    "print(\"\\nHighest Opening Price Data:\")\n",
    "data_for_index(data_dict, highest_price_index)\n",
    "\n",
    "print(\"\\nLowest Opening Price Data:\")\n",
    "data_for_index(data_dict, lowest_price_index)"
   ]
  },
  {
   "cell_type": "code",
   "execution_count": 55,
   "metadata": {},
   "outputs": [
    {
     "name": "stdout",
     "output_type": "stream",
     "text": [
      "The largest change is: 2.8100000000000023\n",
      "\n",
      "Largest Change Price Data:\n",
      "Date: 2017-12-14\n",
      "Open: 53.11\n",
      "High: 53.54\n",
      "Low: 52.15\n",
      "Close: 52.67\n",
      "Change: None\n",
      "Traded Volume: 132981.0\n",
      "Turnover: 7016953.0\n",
      "Last Price of the Day: None\n",
      "Daily Traded Units: None\n",
      "Daily Turnover: None\n"
     ]
    }
   ],
   "source": [
    "#Finding the largest change in one day based on the difference in open and close price\n",
    "\n",
    "#Start by creating variables that will keep track of the index and chage each day\n",
    "largest_change = 0\n",
    "largest_change_index = None\n",
    "\n",
    "#Loop through all of the dates and pull out the high and low values to create the difference\n",
    "#and compare\n",
    "for index in range(len(data_dict['Date'])):\n",
    "    high = data_dict['High'][index]\n",
    "    low = data_dict['Low'][index]\n",
    "    \n",
    "    #Just making sure the values exist\n",
    "    if high is not None and low is not None:\n",
    "        #Create the difference to compare\n",
    "        change = high - low\n",
    "        \n",
    "        #Compare =]\n",
    "        if change > largest_change:\n",
    "            largest_change = change\n",
    "            largest_change_index = index\n",
    "\n",
    "print(f\"The largest change is: {largest_change}\")\n",
    "print(\"\\nLargest Change Price Data:\")\n",
    "data_for_index(data_dict, highest_price_index)"
   ]
  },
  {
   "cell_type": "code",
   "execution_count": 60,
   "metadata": {},
   "outputs": [
    {
     "name": "stdout",
     "output_type": "stream",
     "text": [
      "Largest Closing Price Change: 2.559999999999995\n",
      "Occurred between the dates: 2017-08-09 and 2017-08-08\n",
      "\n",
      "Date: 2017-08-09\n",
      "Open: 43.5\n",
      "High: 43.5\n",
      "Low: 41.64\n",
      "Close: 41.81\n",
      "Change: None\n",
      "Traded Volume: 355857.0\n",
      "Turnover: 15003956.0\n",
      "Last Price of the Day: None\n",
      "Daily Traded Units: None\n",
      "Daily Turnover: None\n",
      "\n",
      "Date: 2017-08-08\n",
      "Open: 44.9\n",
      "High: 45.09\n",
      "Low: 44.15\n",
      "Close: 44.37\n",
      "Change: None\n",
      "Traded Volume: 156168.0\n",
      "Turnover: 6941408.0\n",
      "Last Price of the Day: None\n",
      "Daily Traded Units: None\n",
      "Daily Turnover: None\n"
     ]
    }
   ],
   "source": [
    "#Finding the largest change between any two consecutive days based on Closing Price\n",
    "\n",
    "largest_closing_change = 0\n",
    "closing_change_index = None\n",
    "\n",
    "#I dont want to get to the last index as there will be nothing to compre it to.\n",
    "for i in range(len(data_dict['Date']) - 1):\n",
    "    closing = data_dict['Close'][i]\n",
    "    closing_next_day = data_dict['Close'][i + 1]\n",
    "\n",
    "    #Use abs value here to compare as a larger negative change could be bigger than a \n",
    "    #small positive change\n",
    "    if closing is not None and closing_next_day is not None:\n",
    "        change = abs(closing_next_day - closing)\n",
    "\n",
    "        if change > largest_closing_change:\n",
    "            largest_closing_change = change\n",
    "            closing_change_index = i\n",
    "\n",
    "\n",
    "print(f\"Largest Closing Price Change: {largest_closing_change}\")\n",
    "print(f\"Occurred between the dates: {data_dict['Date'][closing_change_index]} and {data_dict['Date'][closing_change_index + 1]}\")\n",
    "print()\n",
    "data_for_index(data_dict, closing_change_index)\n",
    "print()\n",
    "data_for_index(data_dict, closing_change_index+1)"
   ]
  },
  {
   "cell_type": "code",
   "execution_count": 61,
   "metadata": {},
   "outputs": [
    {
     "name": "stdout",
     "output_type": "stream",
     "text": [
      "Average Trading Volume for the Year: 89124.33725490196\n"
     ]
    }
   ],
   "source": [
    "#Find the average daily trading volume during this year\n",
    "\n",
    "# Create a list of all traded volume values\n",
    "traded_volumes = [volume for volume in data_dict['Traded Volume'] if volume is not None]\n",
    "\n",
    "# Calculate the sum the traded_volumes list\n",
    "total_volume = sum(traded_volumes)\n",
    "\n",
    "# Calculate the average by dividing the total volume by the number of trading days\n",
    "average_volume = total_volume / len(traded_volumes)\n",
    "\n",
    "print(f\"Average Trading Volume for the Year: {average_volume}\")\n"
   ]
  },
  {
   "cell_type": "code",
   "execution_count": 62,
   "metadata": {},
   "outputs": [],
   "source": [
    "#Finding the median trading function for the year (As a function, although now I wish i created all of the calculations as function)\n",
    "\n",
    "def find_median_trading_volume(data_dict):\n",
    "    #Create the list of traded valume and sort it\n",
    "    traded_volumes = [volume for volume in data_dict['Traded Volume'] if volume is not None]\n",
    "    sorted_volumes = sorted(traded_volumes)\n",
    "\n",
    "    #Calculate the median\n",
    "    list_length = len(sorted_volumes)\n",
    "    middle = list_length // 2\n",
    "    \n",
    "    #If even number of elements\n",
    "    if list_length % 2 == 0:\n",
    "        median_volume = (sorted_volumes[middle - 1] + sorted_volumes[middle]) / 2\n",
    "        \n",
    "    #If odd number of elements \n",
    "    else:  \n",
    "        median_volume = sorted_volumes[middle]\n",
    "\n",
    "    #Find the index of the median volume in the original list\n",
    "    median_index = traded_volumes.index(median_volume)\n",
    "\n",
    "    #Return the median volume and its index\n",
    "    return median_volume, median_index\n",
    "\n"
   ]
  },
  {
   "cell_type": "code",
   "execution_count": 64,
   "metadata": {},
   "outputs": [
    {
     "name": "stdout",
     "output_type": "stream",
     "text": [
      "Median Trading Volume for the Year: 76286.0\n",
      "\n",
      "Data for the Day with the Median Trading Volume:\n",
      "Date: 2017-11-13\n",
      "Open: 48.38\n",
      "High: 48.61\n",
      "Low: 47.76\n",
      "Close: 48.34\n",
      "Change: None\n",
      "Traded Volume: 76286.0\n",
      "Turnover: 3681337.0\n",
      "Last Price of the Day: None\n",
      "Daily Traded Units: None\n",
      "Daily Turnover: None\n"
     ]
    }
   ],
   "source": [
    "# Call the function\n",
    "median_volume, median_index = find_median_trading_volume(data_dict)\n",
    "\n",
    "# Print the results\n",
    "print(f\"Median Trading Volume for the Year: {median_volume}\")\n",
    "print(\"\\nData for the Day with the Median Trading Volume:\")\n",
    "data_for_index(data_dict, median_index)\n",
    "\n",
    "#Adding a comment here to say that this function only worked becasue the length of the traded\n",
    "#values list was odd, if the list was even then median_index would not be just one number\n",
    "#I would need to account for this ineither the median function or the data_for_index function"
   ]
  },
  {
   "cell_type": "code",
   "execution_count": null,
   "metadata": {},
   "outputs": [],
   "source": []
  }
 ],
 "metadata": {
  "interpreter": {
   "hash": "7635eb1b9d0fe97add78a7368b6b431c09bb8ad5c42e437d64abdd99821c31ae"
  },
  "kernelspec": {
   "display_name": "Python 3 (ipykernel)",
   "language": "python",
   "name": "python3"
  },
  "language_info": {
   "codemirror_mode": {
    "name": "ipython",
    "version": 3
   },
   "file_extension": ".py",
   "mimetype": "text/x-python",
   "name": "python",
   "nbconvert_exporter": "python",
   "pygments_lexer": "ipython3",
   "version": "3.11.5"
  }
 },
 "nbformat": 4,
 "nbformat_minor": 4
}
